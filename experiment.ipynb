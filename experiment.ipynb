{
 "cells": [
  {
   "cell_type": "code",
   "execution_count": 1,
   "metadata": {},
   "outputs": [
    {
     "name": "stdout",
     "output_type": "stream",
     "text": [
      "4254\n",
      "3561\n"
     ]
    }
   ],
   "source": [
    "from tools import get_data\n",
    "import pickle\n",
    "\n",
    "train_sequences, test_sequences, val_sequences, train_labels, test_labels, val_labels = get_data()\n",
    "train = {'X': train_sequences, 'Y':train_labels}\n",
    "val = {'X': val_sequences, 'Y':val_labels}\n",
    "test = {'X': test_sequences, 'Y':test_labels}\n",
    "\n",
    "with open('train.pkl', 'wb') as f:\n",
    "    pickle.dump(train, f)\n",
    "\n",
    "with open('test.pkl', 'wb') as f:\n",
    "    pickle.dump(test, f)\n",
    "\n",
    "with open('val.pkl', 'wb') as f:\n",
    "    pickle.dump(val, f)"
   ]
  }
 ],
 "metadata": {
  "kernelspec": {
   "display_name": "Python 3",
   "language": "python",
   "name": "python3"
  },
  "language_info": {
   "codemirror_mode": {
    "name": "ipython",
    "version": 3
   },
   "file_extension": ".py",
   "mimetype": "text/x-python",
   "name": "python",
   "nbconvert_exporter": "python",
   "pygments_lexer": "ipython3",
   "version": "3.9.5"
  }
 },
 "nbformat": 4,
 "nbformat_minor": 2
}
